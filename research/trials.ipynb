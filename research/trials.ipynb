{
 "cells": [
  {
   "cell_type": "code",
   "execution_count": null,
   "metadata": {},
   "outputs": [],
   "source": [
    "\n",
    "data_validation:\n",
    "  root_dir: artifacts/data_validation\n",
    "  unzip_data_dir: artifacts/data_ingestion/winequality-red.csv\n",
    "  STATUS_FILE: artifacts/data_validation/status.txt\n",
    "\n",
    "\n",
    "\n",
    "data_transformation:\n",
    "  root_dir: artifacts/data_transformation\n",
    "  data_path: artifacts/data_ingestion/winequality-red.csv\n",
    "\n",
    "\n",
    "\n",
    "model_trainer:\n",
    "  root_dir: artifacts/model_trainer\n",
    "  train_data_path: artifacts/data_transformation/train.csv\n",
    "  test_data_path: artifacts/data_transformation/test.csv\n",
    "  model_name: model.joblib\n",
    "\n",
    "\n",
    "\n",
    "model_evaluation:\n",
    "  root_dir: artifacts/model_evaluation\n",
    "  test_data_path: artifacts/data_transformation/test.csv\n",
    "  model_path: artifacts/model_trainer/model.joblib\n",
    "  metric_file_name: artifacts/model_evaluation/metrics.json\n",
    "\n",
    "\n"
   ]
  }
 ],
 "metadata": {
  "language_info": {
   "name": "python"
  },
  "orig_nbformat": 4
 },
 "nbformat": 4,
 "nbformat_minor": 2
}
